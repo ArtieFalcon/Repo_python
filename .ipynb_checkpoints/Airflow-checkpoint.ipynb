{
 "cells": [
  {
   "cell_type": "markdown",
   "id": "574deb2a",
   "metadata": {},
   "source": [
    " ## DAG creation"
   ]
  },
  {
   "cell_type": "code",
   "execution_count": null,
   "id": "bfa60043",
   "metadata": {},
   "outputs": [],
   "source": [
    "pip install apache-airflow==1.10.10 "
   ]
  },
  {
   "cell_type": "code",
   "execution_count": 5,
   "id": "e50b4e5b",
   "metadata": {},
   "outputs": [
    {
     "ename": "ModuleNotFoundError",
     "evalue": "No module named 'airflow'",
     "output_type": "error",
     "traceback": [
      "\u001b[1;31m---------------------------------------------------------------------------\u001b[0m",
      "\u001b[1;31mModuleNotFoundError\u001b[0m                       Traceback (most recent call last)",
      "\u001b[1;32m~\\AppData\\Local\\Temp/ipykernel_1200/2576100640.py\u001b[0m in \u001b[0;36m<module>\u001b[1;34m\u001b[0m\n\u001b[1;32m----> 1\u001b[1;33m \u001b[1;32mfrom\u001b[0m \u001b[0mairflow\u001b[0m \u001b[1;32mimport\u001b[0m \u001b[0mDAG\u001b[0m\u001b[1;33m\u001b[0m\u001b[1;33m\u001b[0m\u001b[0m\n\u001b[0m\u001b[0;32m      2\u001b[0m \u001b[1;32mfrom\u001b[0m \u001b[0mairflow\u001b[0m\u001b[1;33m.\u001b[0m\u001b[0mutils\u001b[0m\u001b[1;33m.\u001b[0m\u001b[0mdates\u001b[0m \u001b[1;32mimport\u001b[0m \u001b[0mdays_ago\u001b[0m\u001b[1;33m\u001b[0m\u001b[1;33m\u001b[0m\u001b[0m\n\u001b[0;32m      3\u001b[0m \u001b[1;32mimport\u001b[0m \u001b[0mlogging\u001b[0m\u001b[1;33m\u001b[0m\u001b[1;33m\u001b[0m\u001b[0m\n\u001b[0;32m      4\u001b[0m \u001b[1;33m\u001b[0m\u001b[0m\n\u001b[0;32m      5\u001b[0m \u001b[1;32mfrom\u001b[0m \u001b[0mairflow\u001b[0m\u001b[1;33m.\u001b[0m\u001b[0moperators\u001b[0m\u001b[1;33m.\u001b[0m\u001b[0mdummy_operator\u001b[0m \u001b[1;32mimport\u001b[0m \u001b[0mDummyOperator\u001b[0m\u001b[1;33m\u001b[0m\u001b[1;33m\u001b[0m\u001b[0m\n",
      "\u001b[1;31mModuleNotFoundError\u001b[0m: No module named 'airflow'"
     ]
    }
   ],
   "source": [
    "from airflow import DAG\n",
    "from airflow.utils.dates import days_ago\n",
    "import logging\n",
    "\n",
    "from airflow.operators.dummy_operator import DummyOperator\n",
    "from airflow.operators.bash import BashOperator\n",
    "from airflow.operators.python_operator import PythonOperator\n",
    "\n",
    "DEFAULT_ARGS = {\n",
    "    'start_date': days_ago(2),\n",
    "    'owner': 'ds',\n",
    "    'poke_interval': 600\n",
    "}\n"
   ]
  },
  {
   "cell_type": "code",
   "execution_count": 3,
   "id": "111f38eb",
   "metadata": {},
   "outputs": [
    {
     "ename": "NameError",
     "evalue": "name 'DAG' is not defined",
     "output_type": "error",
     "traceback": [
      "\u001b[1;31m---------------------------------------------------------------------------\u001b[0m",
      "\u001b[1;31mNameError\u001b[0m                                 Traceback (most recent call last)",
      "\u001b[1;32m~\\AppData\\Local\\Temp/ipykernel_1200/1097653812.py\u001b[0m in \u001b[0;36m<module>\u001b[1;34m\u001b[0m\n\u001b[0;32m      2\u001b[0m ''' Mist easiest way. Creation of Dag-class variable \n\u001b[0;32m      3\u001b[0m  In this case every task should be linked to DAG. And inside every task it needs to be point (mention) to DAG.'''\n\u001b[1;32m----> 4\u001b[1;33m dag = DAG(\"dina_simple_dag_v2\",\n\u001b[0m\u001b[0;32m      5\u001b[0m           \u001b[0mschedule_interval\u001b[0m\u001b[1;33m=\u001b[0m\u001b[1;34m'@daily'\u001b[0m\u001b[1;33m,\u001b[0m\u001b[1;33m\u001b[0m\u001b[1;33m\u001b[0m\u001b[0m\n\u001b[0;32m      6\u001b[0m           \u001b[0mdefault_args\u001b[0m\u001b[1;33m=\u001b[0m\u001b[0mDEFAULT_ARGS\u001b[0m\u001b[1;33m,\u001b[0m\u001b[1;33m\u001b[0m\u001b[1;33m\u001b[0m\u001b[0m\n",
      "\u001b[1;31mNameError\u001b[0m: name 'DAG' is not defined"
     ]
    }
   ],
   "source": [
    "# 1st way:\n",
    "''' Mist easiest way. Creation of Dag-class variable \n",
    " In this case every task should be linked to DAG. And inside every task it needs to be point (mention) to DAG.'''\n",
    "dag = DAG(\"dina_simple_dag_v2\",\n",
    "          schedule_interval='@daily',\n",
    "          default_args=DEFAULT_ARGS,\n",
    "          max_active_runs=1,\n",
    "          tags=['karpov']\n",
    "          )\n",
    "wait_until_6am = TimeDeltaSensor(\n",
    "    task_id='wait_until_6am',\n",
    "    delta=timedelta(seconds=6 * 60 * 60),\n",
    "    dag=dag\n",
    ") "
   ]
  },
  {
   "cell_type": "code",
   "execution_count": 2,
   "id": "384ffc7c",
   "metadata": {},
   "outputs": [
    {
     "ename": "NameError",
     "evalue": "name 'DAG' is not defined",
     "output_type": "error",
     "traceback": [
      "\u001b[1;31m---------------------------------------------------------------------------\u001b[0m",
      "\u001b[1;31mNameError\u001b[0m                                 Traceback (most recent call last)",
      "\u001b[1;32m~\\AppData\\Local\\Temp/ipykernel_1200/5815877.py\u001b[0m in \u001b[0;36m<module>\u001b[1;34m\u001b[0m\n\u001b[0;32m      2\u001b[0m '''Similar to 1st way but should be done via \"context manager\" (with... as) \n\u001b[0;32m      3\u001b[0m \u001b[0mThere\u001b[0m \u001b[1;32mis\u001b[0m \u001b[0mno\u001b[0m \u001b[0mneed\u001b[0m \u001b[0mto\u001b[0m \u001b[0mmention\u001b[0m \u001b[0mDAG\u001b[0m \u001b[0minside\u001b[0m \u001b[0mevery\u001b[0m \u001b[0mtask\u001b[0m\u001b[1;33m,\u001b[0m \u001b[0mit\u001b[0m\u001b[1;34m's assigned automatically. '\u001b[0m\u001b[1;34m''\u001b[0m\u001b[1;33m\u001b[0m\u001b[1;33m\u001b[0m\u001b[0m\n\u001b[1;32m----> 4\u001b[1;33m with DAG(\n\u001b[0m\u001b[0;32m      5\u001b[0m     \u001b[0mdag_id\u001b[0m\u001b[1;33m=\u001b[0m\u001b[1;34m'dina_simple_dag'\u001b[0m\u001b[1;33m,\u001b[0m\u001b[1;33m\u001b[0m\u001b[1;33m\u001b[0m\u001b[0m\n\u001b[0;32m      6\u001b[0m     \u001b[0mschedule_interval\u001b[0m\u001b[1;33m=\u001b[0m\u001b[1;34m'@daily'\u001b[0m\u001b[1;33m,\u001b[0m\u001b[1;33m\u001b[0m\u001b[1;33m\u001b[0m\u001b[0m\n",
      "\u001b[1;31mNameError\u001b[0m: name 'DAG' is not defined"
     ]
    }
   ],
   "source": [
    "# 2d way\n",
    "'''Similar to 1st way but should be done via \"context manager\" (with... as) \n",
    "There is no need to mention DAG inside every task, it's assigned automatically. '''\n",
    "with DAG(\n",
    "    dag_id='dina_simple_dag',\n",
    "    schedule_interval='@daily',\n",
    "    default_args=DEFAULT_ARGS,\n",
    "    max_active_runs=1,\n",
    "    tags=['karpov']\n",
    ") as dag:\n",
    "\n",
    "    wait_until_6am = TimeDeltaSensor(\n",
    "        task_id='wait_until_6am',\n",
    "        delta=timedelta(seconds=6 * 60 * 60)\n",
    "    )"
   ]
  },
  {
   "cell_type": "code",
   "execution_count": 1,
   "id": "f955c205",
   "metadata": {},
   "outputs": [
    {
     "ename": "NameError",
     "evalue": "name 'dag' is not defined",
     "output_type": "error",
     "traceback": [
      "\u001b[1;31m---------------------------------------------------------------------------\u001b[0m",
      "\u001b[1;31mNameError\u001b[0m                                 Traceback (most recent call last)",
      "\u001b[1;32m~\\AppData\\Local\\Temp/ipykernel_1200/1657148058.py\u001b[0m in \u001b[0;36m<module>\u001b[1;34m\u001b[0m\n\u001b[0;32m      5\u001b[0m \u001b[0mчто\u001b[0m \u001b[0mвнутри\u001b[0m \u001b[0mскрипта\u001b[0m \u001b[0mнаходится\u001b[0m \u001b[0mDAG\u001b[0m\u001b[1;33m.\u001b[0m\u001b[1;33m\u001b[0m\u001b[1;33m\u001b[0m\u001b[0m\n\u001b[0;32m      6\u001b[0m '''\n\u001b[1;32m----> 7\u001b[1;33m @dag(\n\u001b[0m\u001b[0;32m      8\u001b[0m     \u001b[0mstart_date\u001b[0m\u001b[1;33m=\u001b[0m\u001b[0mdays_ago\u001b[0m\u001b[1;33m(\u001b[0m\u001b[1;36m12\u001b[0m\u001b[1;33m)\u001b[0m\u001b[1;33m,\u001b[0m\u001b[1;33m\u001b[0m\u001b[1;33m\u001b[0m\u001b[0m\n\u001b[0;32m      9\u001b[0m     \u001b[0mdag_id\u001b[0m\u001b[1;33m=\u001b[0m\u001b[1;34m'dina_simple_dag'\u001b[0m\u001b[1;33m,\u001b[0m\u001b[1;33m\u001b[0m\u001b[1;33m\u001b[0m\u001b[0m\n",
      "\u001b[1;31mNameError\u001b[0m: name 'dag' is not defined"
     ]
    }
   ],
   "source": [
    "#3d way\n",
    "'''DAG создается с помощью декоратора @dag. Нам требуется создать функцию со списком тасков внутри \n",
    "и обернуть ее в декоратор. Таким образом мы получаем переменную класса DAG. \n",
    "Эту переменную мы объявляем в глобальной области видимости, с помощью чего Airflow понимает, \n",
    "что внутри скрипта находится DAG. \n",
    "'''\n",
    "@dag(\n",
    "    start_date=days_ago(12),\n",
    "    dag_id='dina_simple_dag',\n",
    "    schedule_interval='@daily',\n",
    "    default_args=DEFAULT_ARGS,\n",
    "    max_active_runs=1,\n",
    "    tags=['karpov']\n",
    ")\n",
    "def generate_dag():\n",
    "    wait_until_6am = TimeDeltaSensor(\n",
    "        task_id='wait_until_6am',\n",
    "        delta=timedelta(seconds=6 * 60 * 60)\n",
    "    )\n",
    "dag = generate_dag()\n"
   ]
  },
  {
   "cell_type": "markdown",
   "id": "bdb7adab",
   "metadata": {},
   "source": [
    "**BashOperator** \n",
    "\n",
    "Выполняет заданный bash script\n",
    "\n",
    "```python\n",
    "echo_ds = BashOperator(\n",
    "    task_id='echo_ds',\n",
    "    bash_command='echo {{ ds }}', # выполняемый bash script (ds = execution_date)\n",
    "    dag=dag\n",
    ")\n",
    "```\n",
    "\n",
    "**BranchPythonOperator**\n",
    "\n",
    "Это оператор ветвления. В результате выполнения возвращает название следующей задачи. В нашем случае возвращает `weekend` или `weekday` в зависимости от `execution_dt`.\n",
    "\n",
    "```python\n",
    "def select_day_func(**kwargs):\n",
    "    execution_dt = kwargs['templates_dict']['execution_dt']\n",
    "    exec_day = datetime.strptime(execution_dt, '%Y-%m-%d').weekday()\n",
    "    return 'weekend' if exec_day in [5, 6] else 'weekday'\n",
    "\n",
    "weekday_or_weekend = BranchPythonOperator(\n",
    "    task_id='weekday_or_weekend',\n",
    "    python_callable=select_day_func,\n",
    "    templates_dict={'execution_dt': '{{ ds }}',\n",
    "    dag=dag\n",
    ")\n",
    "```\n",
    "\n",
    "**PythonOperator**\n",
    "\n",
    "```python\n",
    "def weekday_func():\n",
    "    logging.info(\"It's weekday\")\n",
    "\n",
    "weekday = PythonOperator(\n",
    "    task_id='weekday',\n",
    "    python_callable=weekday_func, # ссылка на функцию, выполняемую в рамках таски\n",
    "    dag=dag\n",
    ")\n",
    "```\n",
    "\n",
    "**DummyOperator**\n",
    "\n",
    "```python\n",
    "eod = DummyOperator(\n",
    "    task_id='eod',\n",
    "    trigger_rule='one_success',\n",
    "    dag=dag\n",
    ")\n",
    "```\n",
    "\n",
    "Оператор запускается в зависимости от заданного trigger rule.\n",
    "\n",
    "Trigger Rule:\n",
    "\n",
    "- all_success (по умолчанию) - таск запустится в тот момент, когда все таски, от которых он зависит, выполнятся успешно\n",
    "- all_failed - все таски провалились\n",
    "- all_done - все таски пришли в конечное состояние (не run / queued / retry)\n",
    "- one_failed - хотя бы один таск упал\n",
    "- one_success - хотя бы один таск успешно отработал\n",
    "- none_failed - ни одна задача не упала\n",
    "- none_failed_or_skipped - ни одна задача не упала и не была пропущена\n",
    "- none_skipped - ни одна задача не была пропущена\n",
    "- dummy - таск ни от чего не зависит, может стартовать в любое время\n",
    "\n",
    "### Составление пайплайнов\n",
    "\n",
    "Громоздкий способ: для всех переменных, которые описывают таски, определяем последователей (downstream) и предшественников (upstream). Их можно задавать по одному или же сразу подать список из нескольких задач (как для eod).\n",
    "\n",
    "```python\n",
    "wait_until_6am.set_downstream(echo_ds)\n",
    "echo_ds.set_downstream(weekday_or_weekend)\n",
    "weekday_or_weekend.set_downstream(weekend, Label(\"It's weekend\"))\n",
    "weekday_or_weekend.set_downstream(weekday, Label(\"It's weekday\"))\n",
    "eod.set_upstream([weekend, weekday])\n",
    "```\n",
    "\n",
    "Наглядный и короткий способ. Здесь мы так же указываем лейблы (они маркируют ребра).\n",
    "\n",
    "```python\n",
    "wait_until_6am >> echo_ds >> weekday_or_weekend >> Label(\"It's weekday\") >> weekday >> eod\n",
    "weekday_or_weekend >> Label(\"It's weekend\") >> weekend >> eod\n",
    "```\n",
    "\n",
    "Самый короткий способ (без лейблов).\n",
    "\n",
    "```python\n",
    "wait_until_6am >> echo_ds >> weekday_or_weekend >> [weekend, weekday] >> eod\n",
    "```\n",
    "\n",
    "### Документация\n",
    "\n",
    "Документацию можно писать не только для самого DAG-а, но и для отдельных задач:"
   ]
  },
  {
   "cell_type": "code",
   "execution_count": null,
   "id": "2a0cb723",
   "metadata": {},
   "outputs": [],
   "source": []
  }
 ],
 "metadata": {
  "kernelspec": {
   "display_name": "Python 3 (ipykernel)",
   "language": "python",
   "name": "python3"
  },
  "language_info": {
   "codemirror_mode": {
    "name": "ipython",
    "version": 3
   },
   "file_extension": ".py",
   "mimetype": "text/x-python",
   "name": "python",
   "nbconvert_exporter": "python",
   "pygments_lexer": "ipython3",
   "version": "3.9.7"
  }
 },
 "nbformat": 4,
 "nbformat_minor": 5
}
