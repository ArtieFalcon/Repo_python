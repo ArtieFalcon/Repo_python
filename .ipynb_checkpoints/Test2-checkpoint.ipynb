{
 "cells": [
  {
   "cell_type": "code",
   "execution_count": 1,
   "id": "95062e58-908e-4d84-9766-3a89ccb8841e",
   "metadata": {},
   "outputs": [],
   "source": [
    "dd = 2"
   ]
  },
  {
   "cell_type": "code",
   "execution_count": 2,
   "id": "0ebdc463-b2b2-41d1-a637-36a40be350f6",
   "metadata": {},
   "outputs": [
    {
     "name": "stdout",
     "output_type": "stream",
     "text": [
      "2\n"
     ]
    }
   ],
   "source": [
    "print(dd)"
   ]
  },
  {
   "cell_type": "code",
   "execution_count": 25,
   "id": "15d930da-bb3e-461f-8118-4e7281944ef7",
   "metadata": {},
   "outputs": [
    {
     "name": "stdout",
     "output_type": "stream",
     "text": [
      "[5, 7, 9, 11, 13, 45]\n",
      "45045=45=13=11=9=7=5\n"
     ]
    }
   ],
   "source": [
    "l = []\n",
    "for i in range(5,15):\n",
    "    l.append(i)\n",
    "ll = l[::2]\n",
    "s = sum(ll)\n",
    "m = 1\n",
    "for k in ll:\n",
    "    m *= k\n",
    "ll.append(s)\n",
    "print(ll)\n",
    "lll = ll + [m]\n",
    "lll.sort(reverse = True)\n",
    "for j in range(0,len(lll)):\n",
    "    lll[j] = str(lll[j])\n",
    "print('='.join(lll))"
   ]
  },
  {
   "cell_type": "code",
   "execution_count": null,
   "id": "4e482ee8-b3f8-4910-9268-abb2cdb73edf",
   "metadata": {},
   "outputs": [],
   "source": []
  }
 ],
 "metadata": {
  "kernelspec": {
   "display_name": "Python 3 (ipykernel)",
   "language": "python",
   "name": "python3"
  },
  "language_info": {
   "codemirror_mode": {
    "name": "ipython",
    "version": 3
   },
   "file_extension": ".py",
   "mimetype": "text/x-python",
   "name": "python",
   "nbconvert_exporter": "python",
   "pygments_lexer": "ipython3",
   "version": "3.9.7"
  }
 },
 "nbformat": 4,
 "nbformat_minor": 5
}
