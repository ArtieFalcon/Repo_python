{
 "cells": [
  {
   "cell_type": "code",
   "execution_count": null,
   "id": "1827078f",
   "metadata": {},
   "outputs": [],
   "source": []
  },
  {
   "cell_type": "code",
   "execution_count": null,
   "id": "32fd6e4e",
   "metadata": {},
   "outputs": [],
   "source": [
    "\n"
   ]
  },
  {
   "cell_type": "markdown",
   "id": "60c00158",
   "metadata": {},
   "source": [
    "# #Module3"
   ]
  },
  {
   "cell_type": "markdown",
   "id": "b3362938",
   "metadata": {},
   "source": [
    "select  sum( distinct r_regionkey) from tpch1.region;\n",
    "\n",
    "explain analyze\n",
    "select * from tpch1.nation_ext n join tpch1.region_ext r on n.n_regionkey=r.r_regionkey;\n",
    "\n",
    "explain analyze\n",
    "select * from tpch1.orders_2 o join tpch1.customer_2 c on o.o_custkey=c.c_custkey;\n",
    "----------------------------------------- model linear regression\n",
    "--Создадим таблицу, в которой есть идентификаторы, значения того, что нужно предсказать и x1, x2.\n",
    "CREATE TABLE regr_example (\n",
    "   id int,\n",
    "   y int,\n",
    "   x1 int,\n",
    "   x2 int\n",
    ");\n",
    "INSERT INTO regr_example VALUES\n",
    "   (1,  5, 2, 3),\n",
    "   (2, 10, 7, 2),\n",
    "   (3,  6, 4, 1),\n",
    "   (4,  8, 3, 4);\n",
    "   \n",
    "  --Потом применяем к ней функцию linregr_train из библиотеки MADlib:\n",
    "  SELECT madlib.linregr_train (\n",
    "   'regr_example',         -- source table\n",
    "   'regr_example_model',   -- output model table\n",
    "   'y',                    -- dependent variable\n",
    "   'ARRAY[1, x1, x2]'      -- independent variables\n",
    ");\n",
    "--В результаты выводится краткий отчет с основными коэффициентами регрессии, необходимыми для анализа полученной модели:\n",
    "SELECT * FROM regr_example_model;\n",
    "--С помощью полученной модели можно строить предсказания. Для этого нужно использовать функцию linregr_predict\n",
    "SELECT \n",
    "    regr_example.*,\n",
    "    madlib.linregr_predict ( ARRAY[1, x1, x2], m.coef ) AS predict,\n",
    "    y - madlib.linregr_predict ( ARRAY[1, x1, x2], m.coef ) AS residual\n",
    "FROM regr_example, regr_example_model m;\n",
    "\n",
    "-------------------------------------------------------\n",
    "select habitat_id, st_area(geom) from public.buowl_habitat\n",
    "where habitat_id in (select habitat_id from public.buowl_habitat order by habitat_id limit 5)\n",
    "order by st_area(geom);\n",
    "select * from public.buowl_habitat order by habitat_id limit 5;\n",
    "\n",
    "select * from public.linear_projects ;\n",
    "with cte1 as (\n",
    "select t1.gid, st_intersects(t1.geom, t2.geom) as s, count(*) over() from public.linear_projects t1\n",
    "inner join public.linear_projects t2 on t1.gid=t2.gid\n",
    ")\n",
    "select * from cte1 where s = 'true' ;"
   ]
  }
 ],
 "metadata": {
  "kernelspec": {
   "display_name": "Python 3 (ipykernel)",
   "language": "python",
   "name": "python3"
  },
  "language_info": {
   "codemirror_mode": {
    "name": "ipython",
    "version": 3
   },
   "file_extension": ".py",
   "mimetype": "text/x-python",
   "name": "python",
   "nbconvert_exporter": "python",
   "pygments_lexer": "ipython3",
   "version": "3.9.7"
  }
 },
 "nbformat": 4,
 "nbformat_minor": 5
}
