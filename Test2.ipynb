{
 "cells": [
  {
   "cell_type": "code",
   "execution_count": 1,
   "id": "95062e58-908e-4d84-9766-3a89ccb8841e",
   "metadata": {},
   "outputs": [],
   "source": [
    "dd = 2"
   ]
  },
  {
   "cell_type": "code",
   "execution_count": 2,
   "id": "0ebdc463-b2b2-41d1-a637-36a40be350f6",
   "metadata": {},
   "outputs": [
    {
     "name": "stdout",
     "output_type": "stream",
     "text": [
      "2\n"
     ]
    }
   ],
   "source": [
    "print(dd)"
   ]
  },
  {
   "cell_type": "code",
   "execution_count": null,
   "id": "15d930da-bb3e-461f-8118-4e7281944ef7",
   "metadata": {},
   "outputs": [],
   "source": []
  }
 ],
 "metadata": {
  "kernelspec": {
   "display_name": "Python 3 (ipykernel)",
   "language": "python",
   "name": "python3"
  },
  "language_info": {
   "codemirror_mode": {
    "name": "ipython",
    "version": 3
   },
   "file_extension": ".py",
   "mimetype": "text/x-python",
   "name": "python",
   "nbconvert_exporter": "python",
   "pygments_lexer": "ipython3",
   "version": "3.9.7"
  }
 },
 "nbformat": 4,
 "nbformat_minor": 5
}
