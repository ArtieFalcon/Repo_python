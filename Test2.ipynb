{
 "cells": [
  {
   "cell_type": "code",
   "execution_count": 1,
   "id": "95062e58-908e-4d84-9766-3a89ccb8841e",
   "metadata": {},
   "outputs": [],
   "source": [
    "dd = 2"
   ]
  },
  {
   "cell_type": "code",
   "execution_count": 2,
   "id": "0ebdc463-b2b2-41d1-a637-36a40be350f6",
   "metadata": {},
   "outputs": [
    {
     "name": "stdout",
     "output_type": "stream",
     "text": [
      "2\n"
     ]
    }
   ],
   "source": [
    "print(dd)"
   ]
  },
  {
   "cell_type": "code",
   "execution_count": 25,
   "id": "15d930da-bb3e-461f-8118-4e7281944ef7",
   "metadata": {},
   "outputs": [
    {
     "name": "stdout",
     "output_type": "stream",
     "text": [
      "[5, 7, 9, 11, 13, 45]\n",
      "45045=45=13=11=9=7=5\n"
     ]
    }
   ],
   "source": [
    "l = []\n",
    "for i in range(5,15):\n",
    "    l.append(i)\n",
    "ll = l[::2]\n",
    "s = sum(ll)\n",
    "m = 1\n",
    "for k in ll:\n",
    "    m *= k\n",
    "ll.append(s)\n",
    "print(ll)\n",
    "lll = ll + [m]\n",
    "lll.sort(reverse = True)\n",
    "for j in range(0,len(lll)):\n",
    "    lll[j] = str(lll[j])\n",
    "print('='.join(lll))"
   ]
  },
  {
   "cell_type": "code",
   "execution_count": 30,
   "id": "4e482ee8-b3f8-4910-9268-abb2cdb73edf",
   "metadata": {},
   "outputs": [
    {
     "data": {
      "text/plain": [
       "[1, 1, 2, 3, -7, -10]"
      ]
     },
     "execution_count": 30,
     "metadata": {},
     "output_type": "execute_result"
    }
   ],
   "source": [
    "a = [1, 1, 2, 3, 5, 8, 13, 21, 34, 55, 89, 5, 9, -7, -10]\n",
    "aa = list(filter(lambda x: x < 5, a))\n",
    "aa"
   ]
  },
  {
   "cell_type": "code",
   "execution_count": 36,
   "id": "9cde6026-5867-4a7f-8be8-50abbcd32519",
   "metadata": {},
   "outputs": [
    {
     "data": {
      "text/plain": [
       "[1, 2, 3, 5, 8, 11, 13, 34]"
      ]
     },
     "execution_count": 36,
     "metadata": {},
     "output_type": "execute_result"
    }
   ],
   "source": [
    "a = [1, 1, 2, 3, 5, 8, 13, 21, 34, 55, 89, 11]\n",
    "b = [1, 2, 3, 4, 5, 6, 7, 8, 9, 10, 34, 11, 12, 13]\n",
    "g = list( set(a) & set(b))\n",
    "g.sort()\n",
    "g"
   ]
  },
  {
   "cell_type": "code",
   "execution_count": 56,
   "id": "8de3a355-1402-4e26-9a20-68729f531efd",
   "metadata": {},
   "outputs": [
    {
     "data": {
      "text/plain": [
       "'flow'"
      ]
     },
     "execution_count": 56,
     "metadata": {},
     "output_type": "execute_result"
    }
   ],
   "source": [
    "#Дана строка. Выведите слово, которое встречается чаще всего. Если таких слов несколько, выведите то,\n",
    "#которое меньше в лексикографическом порядке.\n",
    "s = 'kafka python course stack flow dict list python stack course star product star product analytics flow star kafka stack flow ython list set ist fit predict dict list python ourse ython ourse star product ist fit predict analytics kafka stack flow product ist fit predict analytics star flow dict flow list python course stack flow dict list python stack course'\n",
    "def f(s):\n",
    "    d = {}\n",
    "    ss = s.split(' ')\n",
    "    for i in ss:\n",
    "        if i not in d.keys():\n",
    "            d[i] = 1\n",
    "        else:\n",
    "            d[i]+=1\n",
    "    m = max(d.values())\n",
    "    l = []\n",
    "    for k,v in d.items():\n",
    "        if v == m:\n",
    "            l.append(k)\n",
    "    #splay(d)\n",
    "    word = l[0]\n",
    "    mi = len(word)\n",
    "    for k in l:\n",
    "        if len(k) < mi:\n",
    "            mi = len(k)\n",
    "            word = k\n",
    "    return word\n",
    "    \n",
    "f(s)"
   ]
  },
  {
   "cell_type": "code",
   "execution_count": 59,
   "id": "dfc65052-024d-4e11-8ac3-545cda150230",
   "metadata": {},
   "outputs": [
    {
     "data": {
      "text/plain": [
       "'ceo'"
      ]
     },
     "execution_count": 59,
     "metadata": {},
     "output_type": "execute_result"
    }
   ],
   "source": [
    "#Task 5\n",
    "#Создайте словарь из двух списков. Чтобы по каждому имени можно было узнать профессию. Выведи профессию maria.\n",
    "names = ['igor', 'dasha', 'martin', 'vladimir', 'rishat', 'maria', 'marat', 'petr', 'dima', 'polina', 'katya', 'elena']\n",
    "occupations = ['smm', 'developer', 'analyst', 'president', 'analyst', 'ceo', 'customer development', 'founder', 'developer', 'ml engineer', 'product manager', 'cmo']\n",
    "name = 'maria'\n",
    "def f(names,occupations,name):\n",
    "    d = {}\n",
    "    for n,o in zip(names, occupations):\n",
    "        d[n] = o    \n",
    "    return d[name]\n",
    "f(names,occupations, name)    "
   ]
  },
  {
   "cell_type": "code",
   "execution_count": 70,
   "id": "c008d504-83e4-4869-85e1-a73f29b528ec",
   "metadata": {},
   "outputs": [
    {
     "name": "stdout",
     "output_type": "stream",
     "text": [
      "{1: 10, 2: 20, 3901: 11, 384: 13, 8489: 1, 48: 10, 3: 13, 4: 40, 93: 12, 91: 41, 95: 1, 841: 11, 584: 11, 5: 50, 6: 60, 9: 90, 7: 11}\n"
     ]
    }
   ],
   "source": [
    "#Task6\n",
    "#Напишите код, который соединит эти словари в один:\n",
    "dict1={1:10, 2:20, 3901:11, 384:13, 8489:1, 48:10}\n",
    "dict2={3:30, 4:40, 93:12, 91:41, 95:1, 841:11, 584:11}\n",
    "dict3={5:50, 6:60, 9:90, 3:13, 7:11}\n",
    "#Выведи длину получившегося словаря и самое популярное значение в нем через запятую без пробела. Например: 3,19\n",
    "dict1.update(dict2)\n",
    "dict1.update(dict3)\n",
    "for k,v in dict1.items():\n",
    "    if v == max(dict1.values()):\n",
    "        m = k\n",
    "print((dict1)) #,',',m)\n"
   ]
  },
  {
   "cell_type": "code",
   "execution_count": 84,
   "id": "26ac4485-4e6c-40b6-9cb3-1cb7ac3ce5ef",
   "metadata": {},
   "outputs": [
    {
     "data": {
      "text/plain": [
       "'PSCbgxpq'"
      ]
     },
     "execution_count": 84,
     "metadata": {},
     "output_type": "execute_result"
    }
   ],
   "source": [
    "#Task7\n",
    "#Напишите код, который для любой строки автоматически вернет словарь с количеством вхождений каждого символа.\n",
    "#Потом, используя этот код, выведи для строки given_string 8 самых непопулярных букв без пробелов и запятых. Регистр надо учитывать!\n",
    "# пример\n",
    "#given_string = 'apple'\n",
    "#result_dict = {'a': 1, 'p': 2, 'l': 1, 'e': 1}\n",
    "given_string = 'Python Star Course for beginners and experts for data science and analytics without sql with code'\n",
    "def g(s):\n",
    "    ss = list(s)\n",
    "    d = {}\n",
    "    for i in ss:\n",
    "        if i not in d.keys():\n",
    "            d[i] = 1\n",
    "        else:\n",
    "            d[i]+=1\n",
    "    c = 1\n",
    "    if ' ' in s:\n",
    "        d.pop(\" \")\n",
    "    if ',' in s:\n",
    "        d.pop(\",\")\n",
    "    dd = d.copy()\n",
    "    l = []\n",
    "    for k,v in d.items():\n",
    "        #if v == min(set(dd.values()).difference(set(l))):\n",
    "        l.append(v)\n",
    "        \n",
    "    l.sort() \n",
    "    ll = l[:8:1]\n",
    "    lll = []\n",
    "    for i in ll:\n",
    "        for k,v in d.items():\n",
    "            if v == i and k not in lll:\n",
    "                lll.append(k)\n",
    "    return ''.join(lll)\n",
    "g(given_string)"
   ]
  },
  {
   "cell_type": "code",
   "execution_count": null,
   "id": "305b3e91-758e-4363-957d-3db1b990d258",
   "metadata": {},
   "outputs": [],
   "source": []
  }
 ],
 "metadata": {
  "kernelspec": {
   "display_name": "Python 3 (ipykernel)",
   "language": "python",
   "name": "python3"
  },
  "language_info": {
   "codemirror_mode": {
    "name": "ipython",
    "version": 3
   },
   "file_extension": ".py",
   "mimetype": "text/x-python",
   "name": "python",
   "nbconvert_exporter": "python",
   "pygments_lexer": "ipython3",
   "version": "3.9.7"
  }
 },
 "nbformat": 4,
 "nbformat_minor": 5
}
