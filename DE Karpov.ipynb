{
 "cells": [
  {
   "cell_type": "code",
   "execution_count": 1,
   "id": "1827078f",
   "metadata": {},
   "outputs": [
    {
     "ename": "SyntaxError",
     "evalue": "invalid syntax (Temp/ipykernel_16364/544888916.py, line 1)",
     "output_type": "error",
     "traceback": [
      "\u001b[1;36m  File \u001b[1;32m\"C:\\Users\\Artemiy\\AppData\\Local\\Temp/ipykernel_16364/544888916.py\"\u001b[1;36m, line \u001b[1;32m1\u001b[0m\n\u001b[1;33m    apt install - y awscli\u001b[0m\n\u001b[1;37m        ^\u001b[0m\n\u001b[1;31mSyntaxError\u001b[0m\u001b[1;31m:\u001b[0m invalid syntax\n"
     ]
    }
   ],
   "source": [
    "apt install - y awscli"
   ]
  },
  {
   "cell_type": "code",
   "execution_count": 3,
   "id": "32fd6e4e",
   "metadata": {},
   "outputs": [
    {
     "name": "stdout",
     "output_type": "stream",
     "text": [
      "Collecting InstagramAPI\n",
      "  Downloading InstagramAPI-1.0.2.tar.gz (13 kB)\n",
      "Collecting requests==2.11.1\n",
      "  Downloading requests-2.11.1-py2.py3-none-any.whl (514 kB)\n",
      "Collecting requests-toolbelt==0.7.0\n",
      "  Downloading requests_toolbelt-0.7.0-py2.py3-none-any.whl (52 kB)\n",
      "Collecting moviepy==0.2.3.2\n",
      "Note: you may need to restart the kernel to use updated packages.\n"
     ]
    },
    {
     "name": "stderr",
     "output_type": "stream",
     "text": [
      "ERROR: pip's dependency resolver does not currently take into account all the packages that are installed. This behaviour is the source of the following dependency conflicts.\n",
      "conda-repo-cli 1.0.4 requires pathlib, which is not installed.\n",
      "anaconda-project 0.10.1 requires ruamel-yaml, which is not installed.\n",
      "tensorboard 2.9.1 requires requests<3,>=2.21.0, but you have requests 2.11.1 which is incompatible.\n",
      "scikit-image 0.18.3 requires imageio>=2.3.0, but you have imageio 2.1.2 which is incompatible.\n",
      "cookiecutter 1.7.2 requires Jinja2<3.0.0, but you have jinja2 3.1.2 which is incompatible.\n",
      "cookiecutter 1.7.2 requires MarkupSafe<2.0.0, but you have markupsafe 2.1.1 which is incompatible."
     ]
    },
    {
     "name": "stdout",
     "output_type": "stream",
     "text": [
      "  Downloading moviepy-0.2.3.2-py2.py3-none-any.whl (122 kB)\n",
      "Collecting imageio==2.1.2\n",
      "  Downloading imageio-2.1.2.zip (3.3 MB)\n",
      "Collecting decorator==4.0.11\n",
      "  Downloading decorator-4.0.11-py2.py3-none-any.whl (8.9 kB)\n",
      "Collecting tqdm==4.11.2\n",
      "  Downloading tqdm-4.11.2-py2.py3-none-any.whl (46 kB)\n",
      "Requirement already satisfied: numpy in c:\\users\\artemiy\\anaconda3\\lib\\site-packages (from moviepy==0.2.3.2->InstagramAPI) (1.20.3)\n",
      "Requirement already satisfied: pillow in c:\\users\\artemiy\\anaconda3\\lib\\site-packages (from imageio==2.1.2->moviepy==0.2.3.2->InstagramAPI) (8.4.0)\n",
      "Building wheels for collected packages: InstagramAPI, imageio\n",
      "  Building wheel for InstagramAPI (setup.py): started\n",
      "  Building wheel for InstagramAPI (setup.py): finished with status 'done'\n",
      "  Created wheel for InstagramAPI: filename=InstagramAPI-1.0.2-py3-none-any.whl size=14005 sha256=f28f742ff8c2487ddfd6990520d73575e1f410e12a38b71a4ed5e0acf9e87390\n",
      "  Stored in directory: c:\\users\\artemiy\\appdata\\local\\pip\\cache\\wheels\\ae\\43\\16\\b8a53280febcac97dc21b59ec64b1efd9eb8ff580681ba4126\n",
      "  Building wheel for imageio (setup.py): started\n",
      "  Building wheel for imageio (setup.py): finished with status 'done'\n",
      "  Created wheel for imageio: filename=imageio-2.1.2-py3-none-any.whl size=3248815 sha256=acb3a8a2d1b0420fd1a2ff7e22a30a74d63cca300de0a172270ef3fc76afffc8\n",
      "  Stored in directory: c:\\users\\artemiy\\appdata\\local\\pip\\cache\\wheels\\b5\\87\\c3\\5e43bb608b6ec80fbaba3361e6f8d931b459bbed49e2ec4d6a\n",
      "Successfully built InstagramAPI imageio\n"
     ]
    },
    {
     "name": "stderr",
     "output_type": "stream",
     "text": [
      "\n",
      "cookiecutter 1.7.2 requires requests>=2.23.0, but you have requests 2.11.1 which is incompatible.\n",
      "conda 4.13.0 requires requests>=2.12.4, but you have requests 2.11.1 which is incompatible.\n"
     ]
    },
    {
     "name": "stdout",
     "output_type": "stream",
     "text": [
      "Installing collected packages: tqdm, requests, imageio, decorator, requests-toolbelt, moviepy, InstagramAPI\n",
      "  Attempting uninstall: tqdm\n",
      "    Found existing installation: tqdm 4.62.3\n",
      "    Uninstalling tqdm-4.62.3:\n",
      "      Successfully uninstalled tqdm-4.62.3\n",
      "  Attempting uninstall: requests\n",
      "    Found existing installation: requests 2.26.0\n",
      "    Uninstalling requests-2.26.0:\n",
      "      Successfully uninstalled requests-2.26.0\n",
      "  Attempting uninstall: imageio\n",
      "    Found existing installation: imageio 2.9.0\n",
      "    Uninstalling imageio-2.9.0:\n",
      "      Successfully uninstalled imageio-2.9.0\n",
      "  Attempting uninstall: decorator\n",
      "    Found existing installation: decorator 5.1.0\n",
      "    Uninstalling decorator-5.1.0:\n",
      "      Successfully uninstalled decorator-5.1.0\n",
      "Successfully installed InstagramAPI-1.0.2 decorator-4.0.11 imageio-2.1.2 moviepy-0.2.3.2 requests-2.11.1 requests-toolbelt-0.7.0 tqdm-4.11.2\n"
     ]
    }
   ],
   "source": [
    "pip install InstagramAPI"
   ]
  },
  {
   "cell_type": "code",
   "execution_count": 4,
   "id": "9a28df19",
   "metadata": {},
   "outputs": [
    {
     "name": "stdout",
     "output_type": "stream",
     "text": [
      "Fail to import moviepy. Need only for Video upload.\n"
     ]
    },
    {
     "ename": "NameError",
     "evalue": "name '__file__' is not defined",
     "output_type": "error",
     "traceback": [
      "\u001b[1;31m---------------------------------------------------------------------------\u001b[0m",
      "\u001b[1;31mNameError\u001b[0m                                 Traceback (most recent call last)",
      "\u001b[1;32m~\\AppData\\Local\\Temp/ipykernel_16364/1702296889.py\u001b[0m in \u001b[0;36m<module>\u001b[1;34m\u001b[0m\n\u001b[0;32m     84\u001b[0m     \u001b[1;31m# Login with test account\u001b[0m\u001b[1;33m\u001b[0m\u001b[1;33m\u001b[0m\u001b[0m\n\u001b[0;32m     85\u001b[0m     \u001b[1;31m# TODO : Fill in username/password\u001b[0m\u001b[1;33m\u001b[0m\u001b[1;33m\u001b[0m\u001b[0m\n\u001b[1;32m---> 86\u001b[1;33m     \u001b[0mapi\u001b[0m \u001b[1;33m=\u001b[0m \u001b[0mInstagramAPI\u001b[0m\u001b[1;33m(\u001b[0m\u001b[1;34m\"USERNAME\"\u001b[0m\u001b[1;33m,\u001b[0m \u001b[1;34m\"PASSWORD\"\u001b[0m\u001b[1;33m,\u001b[0m \u001b[1;32mFalse\u001b[0m\u001b[1;33m,\u001b[0m \u001b[0mos\u001b[0m\u001b[1;33m.\u001b[0m\u001b[0mpath\u001b[0m\u001b[1;33m.\u001b[0m\u001b[0mdirname\u001b[0m\u001b[1;33m(\u001b[0m\u001b[0mos\u001b[0m\u001b[1;33m.\u001b[0m\u001b[0mpath\u001b[0m\u001b[1;33m.\u001b[0m\u001b[0mabspath\u001b[0m\u001b[1;33m(\u001b[0m\u001b[0m__file__\u001b[0m\u001b[1;33m)\u001b[0m\u001b[1;33m)\u001b[0m\u001b[1;33m)\u001b[0m\u001b[1;33m\u001b[0m\u001b[1;33m\u001b[0m\u001b[0m\n\u001b[0m\u001b[0;32m     87\u001b[0m     \u001b[0mapi\u001b[0m\u001b[1;33m.\u001b[0m\u001b[0mlogin\u001b[0m\u001b[1;33m(\u001b[0m\u001b[1;33m)\u001b[0m\u001b[1;33m\u001b[0m\u001b[1;33m\u001b[0m\u001b[0m\n\u001b[0;32m     88\u001b[0m \u001b[1;33m\u001b[0m\u001b[0m\n",
      "\u001b[1;31mNameError\u001b[0m: name '__file__' is not defined"
     ]
    }
   ],
   "source": [
    "from InstagramAPI import InstagramAPI, os\n",
    "import json\n",
    "\n",
    "\n",
    "class FollowerReader:\n",
    "    \"\"\"\n",
    "    Class for reading followers/following\n",
    "    \"\"\"\n",
    "    def __init__(self):\n",
    "        self.followers = []\n",
    "        self.followings = []\n",
    "\n",
    "    def readFollowers(self):\n",
    "        \"\"\"\n",
    "        Reads followers and save list to self.followers\n",
    "        :return:\n",
    "        \"\"\"\n",
    "        next_max_id = True\n",
    "        while next_max_id:\n",
    "            if next_max_id is True:\n",
    "                next_max_id = ''\n",
    "            _ = api.getUserFollowers(usernameId=userId, maxid=next_max_id)\n",
    "            entries = api.LastJson.get('users')\n",
    "            for entry in entries:\n",
    "                self.followers.append(entry['username'])\n",
    "            next_max_id = api.LastJson.get('next_max_id', '')\n",
    "\n",
    "    def readFollowings(self):\n",
    "        \"\"\"\n",
    "        Reads followings and save list to self.followings\n",
    "        :return:\n",
    "        \"\"\"\n",
    "        next_max_id = True\n",
    "        while next_max_id:\n",
    "            if next_max_id is True:\n",
    "                next_max_id = ''\n",
    "            _ = api.getUserFollowings(usernameId=userId, maxid=next_max_id)\n",
    "            entries = api.LastJson.get('users')\n",
    "            for entry in entries:\n",
    "                self.followings.append(entry['username'])\n",
    "            next_max_id = api.LastJson.get('next_max_id', '')\n",
    "\n",
    "\n",
    "def readFollow():\n",
    "    \"\"\"\n",
    "    Read followers/followings\n",
    "    :return: List of followers/followings\n",
    "    \"\"\"\n",
    "    freader = FollowerReader()\n",
    "    freader.readFollowers()\n",
    "    freader.readFollowings()\n",
    "    with open('followers.json', 'r') as infile:\n",
    "        prevFollowers = json.load(infile)\n",
    "    with open('followers.json', 'w') as outfile:\n",
    "        json.dump(freader.followers, outfile)\n",
    "    return freader.followers, freader.followings, prevFollowers\n",
    "\n",
    "\n",
    "def findNonFollowers(followers, followings):\n",
    "    \"\"\"\n",
    "    Find non followers by set difference\n",
    "    :param followers: List of followers\n",
    "    :param followings: List of followings\n",
    "    :return: Set of non followers\n",
    "    \"\"\"\n",
    "    followerset = set(followers)\n",
    "    followingset = set(followings)\n",
    "    return followingset.difference(followerset)\n",
    "\n",
    "\n",
    "def findUnfollowed(followers, prevFollowers):\n",
    "    \"\"\"\n",
    "    Find who unfollowed you since last check, as well as new followers\n",
    "    :param followers:\n",
    "    :param prevFollowers:\n",
    "    :return: Set of un-followers, then new followers\n",
    "    \"\"\"\n",
    "    followerset = set(followers)\n",
    "    prevFollowerset = set(prevFollowers)\n",
    "    return prevFollowerset.difference(followerset), followerset.difference(prevFollowerset)\n",
    "\n",
    "\n",
    "if __name__ == \"__main__\":\n",
    "    # Login with test account\n",
    "    # TODO : Fill in username/password\n",
    "    api = InstagramAPI(\"USERNAME\", \"PASSWORD\", False, os.path.dirname(os.path.abspath(__file__)))\n",
    "    api.login()\n",
    "\n",
    "    # Input username and searches for user ID\n",
    "    valid = False\n",
    "    while not valid:\n",
    "        userName = input(\"Enter Instagram username: \")\n",
    "        api.searchUsername(userName)\n",
    "        try:\n",
    "            userId = api.LastJson.get('user')['pk']\n",
    "            valid = True\n",
    "        except TypeError:\n",
    "            print('User not Found')\n",
    "\n",
    "    # Main functions\n",
    "    followers, followings, prevFollowers = readFollow()\n",
    "    nonfollowers = findNonFollowers(followers, followings)\n",
    "    unfollowers, newfollowers = findUnfollowed(followers, prevFollowers)\n",
    "    print(\"Number of followers: \" + str(len(followers)))\n",
    "    print(\"Number of followings: \" + str(len(followings)))\n",
    "    print(\"Number of un-followers (People unfollowed you since last check): \" + str(len(unfollowers)))\n",
    "    print(unfollowers)\n",
    "    print(\"Number of new followers: \" + str(len(newfollowers)))\n",
    "    print(newfollowers)\n",
    "    print(\"Number of non-followers (People who are not following back): \" + str(len(nonfollowers)))\n",
    "    print(nonfollowers)"
   ]
  },
  {
   "cell_type": "code",
   "execution_count": null,
   "id": "5d431907",
   "metadata": {},
   "outputs": [],
   "source": []
  }
 ],
 "metadata": {
  "kernelspec": {
   "display_name": "Python 3 (ipykernel)",
   "language": "python",
   "name": "python3"
  },
  "language_info": {
   "codemirror_mode": {
    "name": "ipython",
    "version": 3
   },
   "file_extension": ".py",
   "mimetype": "text/x-python",
   "name": "python",
   "nbconvert_exporter": "python",
   "pygments_lexer": "ipython3",
   "version": "3.9.7"
  }
 },
 "nbformat": 4,
 "nbformat_minor": 5
}
