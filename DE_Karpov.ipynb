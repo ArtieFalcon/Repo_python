{
 "cells": [
  {
   "cell_type": "code",
   "execution_count": 1,
   "id": "1827078f",
   "metadata": {},
   "outputs": [
    {
     "ename": "SyntaxError",
     "evalue": "invalid syntax (Temp/ipykernel_16364/544888916.py, line 1)",
     "output_type": "error",
     "traceback": [
      "\u001b[1;36m  File \u001b[1;32m\"C:\\Users\\Artemiy\\AppData\\Local\\Temp/ipykernel_16364/544888916.py\"\u001b[1;36m, line \u001b[1;32m1\u001b[0m\n\u001b[1;33m    apt install - y awscli\u001b[0m\n\u001b[1;37m        ^\u001b[0m\n\u001b[1;31mSyntaxError\u001b[0m\u001b[1;31m:\u001b[0m invalid syntax\n"
     ]
    }
   ],
   "source": [
    "apt install - y awscli"
   ]
  },
  {
   "cell_type": "code",
   "execution_count": 3,
   "id": "32fd6e4e",
   "metadata": {},
   "outputs": [
    {
     "name": "stdout",
     "output_type": "stream",
     "text": [
      "Collecting InstagramAPI\n",
      "  Downloading InstagramAPI-1.0.2.tar.gz (13 kB)\n",
      "Collecting requests==2.11.1\n",
      "  Downloading requests-2.11.1-py2.py3-none-any.whl (514 kB)\n",
      "Collecting requests-toolbelt==0.7.0\n",
      "  Downloading requests_toolbelt-0.7.0-py2.py3-none-any.whl (52 kB)\n",
      "Collecting moviepy==0.2.3.2\n",
      "Note: you may need to restart the kernel to use updated packages.\n"
     ]
    },
    {
     "name": "stderr",
     "output_type": "stream",
     "text": [
      "ERROR: pip's dependency resolver does not currently take into account all the packages that are installed. This behaviour is the source of the following dependency conflicts.\n",
      "conda-repo-cli 1.0.4 requires pathlib, which is not installed.\n",
      "anaconda-project 0.10.1 requires ruamel-yaml, which is not installed.\n",
      "tensorboard 2.9.1 requires requests<3,>=2.21.0, but you have requests 2.11.1 which is incompatible.\n",
      "scikit-image 0.18.3 requires imageio>=2.3.0, but you have imageio 2.1.2 which is incompatible.\n",
      "cookiecutter 1.7.2 requires Jinja2<3.0.0, but you have jinja2 3.1.2 which is incompatible.\n",
      "cookiecutter 1.7.2 requires MarkupSafe<2.0.0, but you have markupsafe 2.1.1 which is incompatible."
     ]
    },
    {
     "name": "stdout",
     "output_type": "stream",
     "text": [
      "  Downloading moviepy-0.2.3.2-py2.py3-none-any.whl (122 kB)\n",
      "Collecting imageio==2.1.2\n",
      "  Downloading imageio-2.1.2.zip (3.3 MB)\n",
      "Collecting decorator==4.0.11\n",
      "  Downloading decorator-4.0.11-py2.py3-none-any.whl (8.9 kB)\n",
      "Collecting tqdm==4.11.2\n",
      "  Downloading tqdm-4.11.2-py2.py3-none-any.whl (46 kB)\n",
      "Requirement already satisfied: numpy in c:\\users\\artemiy\\anaconda3\\lib\\site-packages (from moviepy==0.2.3.2->InstagramAPI) (1.20.3)\n",
      "Requirement already satisfied: pillow in c:\\users\\artemiy\\anaconda3\\lib\\site-packages (from imageio==2.1.2->moviepy==0.2.3.2->InstagramAPI) (8.4.0)\n",
      "Building wheels for collected packages: InstagramAPI, imageio\n",
      "  Building wheel for InstagramAPI (setup.py): started\n",
      "  Building wheel for InstagramAPI (setup.py): finished with status 'done'\n",
      "  Created wheel for InstagramAPI: filename=InstagramAPI-1.0.2-py3-none-any.whl size=14005 sha256=f28f742ff8c2487ddfd6990520d73575e1f410e12a38b71a4ed5e0acf9e87390\n",
      "  Stored in directory: c:\\users\\artemiy\\appdata\\local\\pip\\cache\\wheels\\ae\\43\\16\\b8a53280febcac97dc21b59ec64b1efd9eb8ff580681ba4126\n",
      "  Building wheel for imageio (setup.py): started\n",
      "  Building wheel for imageio (setup.py): finished with status 'done'\n",
      "  Created wheel for imageio: filename=imageio-2.1.2-py3-none-any.whl size=3248815 sha256=acb3a8a2d1b0420fd1a2ff7e22a30a74d63cca300de0a172270ef3fc76afffc8\n",
      "  Stored in directory: c:\\users\\artemiy\\appdata\\local\\pip\\cache\\wheels\\b5\\87\\c3\\5e43bb608b6ec80fbaba3361e6f8d931b459bbed49e2ec4d6a\n",
      "Successfully built InstagramAPI imageio\n"
     ]
    },
    {
     "name": "stderr",
     "output_type": "stream",
     "text": [
      "\n",
      "cookiecutter 1.7.2 requires requests>=2.23.0, but you have requests 2.11.1 which is incompatible.\n",
      "conda 4.13.0 requires requests>=2.12.4, but you have requests 2.11.1 which is incompatible.\n"
     ]
    },
    {
     "name": "stdout",
     "output_type": "stream",
     "text": [
      "Installing collected packages: tqdm, requests, imageio, decorator, requests-toolbelt, moviepy, InstagramAPI\n",
      "  Attempting uninstall: tqdm\n",
      "    Found existing installation: tqdm 4.62.3\n",
      "    Uninstalling tqdm-4.62.3:\n",
      "      Successfully uninstalled tqdm-4.62.3\n",
      "  Attempting uninstall: requests\n",
      "    Found existing installation: requests 2.26.0\n",
      "    Uninstalling requests-2.26.0:\n",
      "      Successfully uninstalled requests-2.26.0\n",
      "  Attempting uninstall: imageio\n",
      "    Found existing installation: imageio 2.9.0\n",
      "    Uninstalling imageio-2.9.0:\n",
      "      Successfully uninstalled imageio-2.9.0\n",
      "  Attempting uninstall: decorator\n",
      "    Found existing installation: decorator 5.1.0\n",
      "    Uninstalling decorator-5.1.0:\n",
      "      Successfully uninstalled decorator-5.1.0\n",
      "Successfully installed InstagramAPI-1.0.2 decorator-4.0.11 imageio-2.1.2 moviepy-0.2.3.2 requests-2.11.1 requests-toolbelt-0.7.0 tqdm-4.11.2\n"
     ]
    }
   ],
   "source": [
    "pip install InstagramAPI"
   ]
  },
  {
   "cell_type": "markdown",
   "id": "60c00158",
   "metadata": {},
   "source": [
    "# #Module3"
   ]
  },
  {
   "cell_type": "markdown",
   "id": "b3362938",
   "metadata": {},
   "source": [
    "select  sum( distinct r_regionkey) from tpch1.region;\n",
    "\n",
    "explain analyze\n",
    "select * from tpch1.nation_ext n join tpch1.region_ext r on n.n_regionkey=r.r_regionkey;\n",
    "\n",
    "explain analyze\n",
    "select * from tpch1.orders_2 o join tpch1.customer_2 c on o.o_custkey=c.c_custkey;\n",
    "----------------------------------------- model linear regression\n",
    "--Создадим таблицу, в которой есть идентификаторы, значения того, что нужно предсказать и x1, x2.\n",
    "CREATE TABLE regr_example (\n",
    "   id int,\n",
    "   y int,\n",
    "   x1 int,\n",
    "   x2 int\n",
    ");\n",
    "INSERT INTO regr_example VALUES\n",
    "   (1,  5, 2, 3),\n",
    "   (2, 10, 7, 2),\n",
    "   (3,  6, 4, 1),\n",
    "   (4,  8, 3, 4);\n",
    "   \n",
    "  --Потом применяем к ней функцию linregr_train из библиотеки MADlib:\n",
    "  SELECT madlib.linregr_train (\n",
    "   'regr_example',         -- source table\n",
    "   'regr_example_model',   -- output model table\n",
    "   'y',                    -- dependent variable\n",
    "   'ARRAY[1, x1, x2]'      -- independent variables\n",
    ");\n",
    "--В результаты выводится краткий отчет с основными коэффициентами регрессии, необходимыми для анализа полученной модели:\n",
    "SELECT * FROM regr_example_model;\n",
    "--С помощью полученной модели можно строить предсказания. Для этого нужно использовать функцию linregr_predict\n",
    "SELECT \n",
    "    regr_example.*,\n",
    "    madlib.linregr_predict ( ARRAY[1, x1, x2], m.coef ) AS predict,\n",
    "    y - madlib.linregr_predict ( ARRAY[1, x1, x2], m.coef ) AS residual\n",
    "FROM regr_example, regr_example_model m;\n",
    "\n",
    "-------------------------------------------------------\n",
    "select habitat_id, st_area(geom) from public.buowl_habitat\n",
    "where habitat_id in (select habitat_id from public.buowl_habitat order by habitat_id limit 5)\n",
    "order by st_area(geom);\n",
    "select * from public.buowl_habitat order by habitat_id limit 5;\n",
    "\n",
    "select * from public.linear_projects ;\n",
    "with cte1 as (\n",
    "select t1.gid, st_intersects(t1.geom, t2.geom) as s, count(*) over() from public.linear_projects t1\n",
    "inner join public.linear_projects t2 on t1.gid=t2.gid\n",
    ")\n",
    "select * from cte1 where s = 'true' ;"
   ]
  }
 ],
 "metadata": {
  "kernelspec": {
   "display_name": "Python 3 (ipykernel)",
   "language": "python",
   "name": "python3"
  },
  "language_info": {
   "codemirror_mode": {
    "name": "ipython",
    "version": 3
   },
   "file_extension": ".py",
   "mimetype": "text/x-python",
   "name": "python",
   "nbconvert_exporter": "python",
   "pygments_lexer": "ipython3",
   "version": "3.9.7"
  }
 },
 "nbformat": 4,
 "nbformat_minor": 5
}
